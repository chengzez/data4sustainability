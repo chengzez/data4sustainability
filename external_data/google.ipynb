{
 "cells": [
  {
   "cell_type": "code",
   "execution_count": null,
   "metadata": {},
   "outputs": [],
   "source": [
    "import pandas as pd\n",
    "import numpy as np\n",
    "from pathlib import Path\n",
    "from dotenv import dotenv_values\n",
    "import os\n",
    "import googlemaps\n",
    "from datetime import datetime\n",
    "from tqdm import tqdm\n",
    "import re\n",
    "\n",
    "config = dotenv_values('../../.env')\n",
    "\n",
    "DATA_PATH = Path('../../data')\n",
    "\n",
    "df = pd.read_csv(DATA_PATH.joinpath('raw', 'concat_data.csv'))\n",
    "\n",
    "df['Address'] = df['Address'].apply(lambda a: str(a).lower() + ', boston, ma')\n",
    "\n",
    "gmaps = googlemaps.Client(key=config['MAPS_API_KEY'])\n",
    "\n",
    "# Geocoding all addresses\n",
    "lat_long = {'lat': [], 'lng': []}\n",
    "for idx, row in tqdm(df.iterrows()):\n",
    "    geocode_result = gmaps.geocode(row['Address'])\n",
    "    res = geocode_result[0][\"geometry\"][\"location\"]\n",
    "    lat_long['lat'] = res['lat']\n",
    "    lat_long['lng'] = res['lng']\n",
    "    \n",
    "lat_long = pd.DataFrame(lat_long, index=np.arange(df.shape[0]))\n",
    "df = pd.concat([df, lat_long], axis=1)\n",
    "\n",
    "df.to_csv(DATA_PATH.joinpath('raw', 'lat_long.csv'), index=False)"
   ]
  }
 ],
 "metadata": {
  "language_info": {
   "name": "python"
  },
  "orig_nbformat": 4
 },
 "nbformat": 4,
 "nbformat_minor": 2
}
